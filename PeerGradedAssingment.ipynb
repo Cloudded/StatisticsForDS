
import piplite
await piplite.install(['numpy'],['pandas'])
await piplite.install(['seaborn'])
